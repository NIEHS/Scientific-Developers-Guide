{
  "cells": [
    {
      "cell_type": "markdown",
      "metadata": {},
      "source": [
        "---\n",
        "title: \"Import Chatbot Arena Data\"\n",
        "execute:\n",
        "    freeze: auto\n",
        "---"
      ],
      "id": "c8d2ae59"
    },
    {
      "cell_type": "code",
      "metadata": {},
      "source": [
        "import pickle\n",
        "import requests\n",
        "\n",
        "# Define the URL to download the file from\n",
        "url = \"https://huggingface.co/spaces/lmsys/chatbot-arena-leaderboard/resolve/main/elo_results_20240805.pkl\"\n",
        "\n",
        "try:\n",
        "    # Download the file\n",
        "    response = requests.get(url, allow_redirects=True)\n",
        "\n",
        "    # Check if the download was successful\n",
        "    if response.status_code == 200:\n",
        "        print(\"File downloaded successfully.\")\n",
        "        \n",
        "        # Load the file into a Python object using pickle\n",
        "        with open('elo_results_20240805.pkl', 'wb') as file:\n",
        "            file.write(response.content)\n",
        "            \n",
        "        data = pickle.load(open('elo_results_20240805.pkl', 'rb'))\n",
        "        \n",
        "        # print(data)  # Print the loaded data\n",
        "        \n",
        "    else:\n",
        "        print(f\"Failed to download the file. Status code: {response.status_code}\")\n",
        "except Exception as e:\n",
        "    print(f\"An error occurred: {e}\")"
      ],
      "id": "6da4a621",
      "execution_count": null,
      "outputs": []
    },
    {
      "cell_type": "code",
      "metadata": {},
      "source": [
        "import pandas as pd\n",
        "\n",
        "leaderboard_table_df = data['text']['full']['leaderboard_table_df']\n",
        "\n",
        "leaderboard_table_df.to_csv('elo_results_20240805.csv', index=True)"
      ],
      "id": "a04bb7f6",
      "execution_count": null,
      "outputs": []
    }
  ],
  "metadata": {
    "kernelspec": {
      "display_name": "Python 3",
      "language": "python",
      "name": "python3"
    }
  },
  "nbformat": 4,
  "nbformat_minor": 5
}